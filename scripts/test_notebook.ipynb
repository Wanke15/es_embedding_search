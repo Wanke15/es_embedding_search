{
 "cells": [
  {
   "cell_type": "code",
   "execution_count": 1,
   "metadata": {},
   "outputs": [
    {
     "name": "stderr",
     "output_type": "stream",
     "text": [
      "c:\\miniconda3\\lib\\site-packages\\gensim\\utils.py:1212: UserWarning: detected Windows; aliasing chunkize to chunkize_serial\n",
      "  warnings.warn(\"detected Windows; aliasing chunkize to chunkize_serial\")\n"
     ]
    }
   ],
   "source": [
    "import time\n",
    "import json\n",
    "\n",
    "import gensim\n",
    "from elasticsearch import Elasticsearch"
   ]
  },
  {
   "cell_type": "code",
   "execution_count": 2,
   "metadata": {},
   "outputs": [],
   "source": [
    "# client = Elasticsearch(\"localhost:9200\")\n",
    "client = Elasticsearch(\"localhost:9292\")"
   ]
  },
  {
   "cell_type": "code",
   "execution_count": 3,
   "metadata": {},
   "outputs": [
    {
     "name": "stdout",
     "output_type": "stream",
     "text": [
      "Start loading...\n"
     ]
    },
    {
     "name": "stderr",
     "output_type": "stream",
     "text": [
      "c:\\miniconda3\\lib\\site-packages\\smart_open\\smart_open_lib.py:402: UserWarning: This function is deprecated, use smart_open.open instead. See the migration notes for details: https://github.com/RaRe-Technologies/smart_open/blob/master/README.rst#migrating-to-the-new-open-function\n",
      "  'See the migration notes for details: %s' % _MIGRATION_NOTES_URL\n"
     ]
    },
    {
     "name": "stdout",
     "output_type": "stream",
     "text": [
      "Load model time consumed: 23.28\n"
     ]
    }
   ],
   "source": [
    "print('Start loading...')\n",
    "start = time.time()\n",
    "model = gensim.models.KeyedVectors.load_word2vec_format(\"../data/glove.6B.50d.txt\")\n",
    "print('Load model time consumed: {:.2f}'.format(time.time() - start))"
   ]
  },
  {
   "cell_type": "code",
   "execution_count": 4,
   "metadata": {},
   "outputs": [],
   "source": [
    "def query(word, cat=None, index_name='word_vector_index', size=3):\n",
    "    query_vector = model.get_vector(word).tolist()\n",
    "    if cat is None:\n",
    "        script_query = {\n",
    "            \"query\": {\n",
    "                \"script_score\": {\n",
    "                    \"query\": {\n",
    "                        \"match_all\": {}\n",
    "                    },\n",
    "                    \"script\": {\n",
    "                        \"source\": \"cosineSimilarity(params.query_vector, doc['word_vector']) + 1.0\",\n",
    "                        \"params\": {\n",
    "                            \"query_vector\": query_vector\n",
    "                        }\n",
    "                    }\n",
    "                }\n",
    "            },\n",
    "            \"_source\": [\"word\"]\n",
    "        }\n",
    "    else:\n",
    "        script_query = {\n",
    "            \"query\": {\n",
    "                \"script_score\": {\n",
    "                    \"query\": {\n",
    "                        \"match\": {\n",
    "                            \"category\": cat\n",
    "                        }\n",
    "                    },\n",
    "                    \"script\": {\n",
    "                        \"source\": \"cosineSimilarity(params.query_vector, doc['word_vector']) + 1.0\",\n",
    "                        \"params\": {\n",
    "                            \"query_vector\": query_vector\n",
    "                        }\n",
    "                    }\n",
    "                }\n",
    "            },\n",
    "            \"_source\": [\"word\"]\n",
    "        }\n",
    "    response = client.search(\n",
    "        index=index_name,\n",
    "        body=script_query,\n",
    "        size=size\n",
    "    )\n",
    "    print(json.dumps(response['hits']['hits'], indent=4))"
   ]
  },
  {
   "cell_type": "code",
   "execution_count": 5,
   "metadata": {},
   "outputs": [
    {
     "name": "stdout",
     "output_type": "stream",
     "text": [
      "[\n",
      "    {\n",
      "        \"_index\": \"word_vector_index\",\n",
      "        \"_type\": \"_doc\",\n",
      "        \"_id\": \"2\",\n",
      "        \"_score\": 1.2059406,\n",
      "        \"_source\": {\n",
      "            \"word\": \"swimming\"\n",
      "        }\n",
      "    },\n",
      "    {\n",
      "        \"_index\": \"word_vector_index\",\n",
      "        \"_type\": \"_doc\",\n",
      "        \"_id\": \"0\",\n",
      "        \"_score\": 1.1205508,\n",
      "        \"_source\": {\n",
      "            \"word\": \"basketball\"\n",
      "        }\n",
      "    },\n",
      "    {\n",
      "        \"_index\": \"word_vector_index\",\n",
      "        \"_type\": \"_doc\",\n",
      "        \"_id\": \"4\",\n",
      "        \"_score\": 1.1117831,\n",
      "        \"_source\": {\n",
      "            \"word\": \"run\"\n",
      "        }\n",
      "    }\n",
      "]\n"
     ]
    }
   ],
   "source": [
    "query(\"mice\", 'sports')"
   ]
  },
  {
   "cell_type": "code",
   "execution_count": 6,
   "metadata": {},
   "outputs": [
    {
     "name": "stdout",
     "output_type": "stream",
     "text": [
      "[\n",
      "    {\n",
      "        \"_index\": \"word_vector_index\",\n",
      "        \"_type\": \"_doc\",\n",
      "        \"_id\": \"8\",\n",
      "        \"_score\": 1.4371431,\n",
      "        \"_source\": {\n",
      "            \"word\": \"milk\"\n",
      "        }\n",
      "    },\n",
      "    {\n",
      "        \"_index\": \"word_vector_index\",\n",
      "        \"_type\": \"_doc\",\n",
      "        \"_id\": \"5\",\n",
      "        \"_score\": 1.1839651,\n",
      "        \"_source\": {\n",
      "            \"word\": \"cheese\"\n",
      "        }\n",
      "    },\n",
      "    {\n",
      "        \"_index\": \"word_vector_index\",\n",
      "        \"_type\": \"_doc\",\n",
      "        \"_id\": \"7\",\n",
      "        \"_score\": 1.1520243,\n",
      "        \"_source\": {\n",
      "            \"word\": \"beer\"\n",
      "        }\n",
      "    }\n",
      "]\n"
     ]
    }
   ],
   "source": [
    "query(\"mice\", 'food')"
   ]
  },
  {
   "cell_type": "code",
   "execution_count": null,
   "metadata": {},
   "outputs": [],
   "source": []
  }
 ],
 "metadata": {
  "kernelspec": {
   "display_name": "Python 3",
   "language": "python",
   "name": "python3"
  },
  "language_info": {
   "codemirror_mode": {
    "name": "ipython",
    "version": 3
   },
   "file_extension": ".py",
   "mimetype": "text/x-python",
   "name": "python",
   "nbconvert_exporter": "python",
   "pygments_lexer": "ipython3",
   "version": "3.7.3"
  }
 },
 "nbformat": 4,
 "nbformat_minor": 2
}
